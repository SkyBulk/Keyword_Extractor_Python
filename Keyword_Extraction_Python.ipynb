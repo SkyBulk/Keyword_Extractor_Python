{
 "cells": [
  {
   "cell_type": "code",
   "execution_count": 108,
   "metadata": {
    "collapsed": true
   },
   "outputs": [],
   "source": [
    "# Importing Libraries\n",
    "from nltk import tokenize\n",
    "from operator import itemgetter\n",
    "import math"
   ]
  },
  {
   "cell_type": "code",
   "execution_count": null,
   "metadata": {
    "collapsed": true
   },
   "outputs": [],
   "source": [
    "# TF (Term Frequency) = Number of times a term t appears in the text / Total number of words in the document\n",
    "# IDF (Inverse Document Frequency) = log(total number of sentences / Number of sentences with term t)\n",
    "# TF-IDF = TF * IDF = More TF-IDF value, more important is the variable"
   ]
  },
  {
   "cell_type": "code",
   "execution_count": null,
   "metadata": {
    "collapsed": true
   },
   "outputs": [],
   "source": [
    "# Document -> Vectorize -> Find TF -> Find IDF -> Find TF*IDF -> Keywords"
   ]
  },
  {
   "cell_type": "code",
   "execution_count": 90,
   "metadata": {
    "collapsed": true
   },
   "outputs": [],
   "source": [
    "# Document text\n",
    "#doc = 'I am a graduate. I want to learn Python. I like learning Python. Python is easy. Python is interesting'\n",
    "doc = 'Python is dynamically typed and garbage-collected. It supports multiple programming paradigms, including structured (particularly, procedural), object-oriented, and functional programming. Python is often described as a \"batteries included\" language due to its comprehensive standard library. Python was created in the late 1980s, and first released in 1991, by Guido van Rossum as a successor to the ABC programming language.'"
   ]
  },
  {
   "cell_type": "code",
   "execution_count": 91,
   "metadata": {
    "collapsed": false
   },
   "outputs": [],
   "source": [
    "# Remove stopwords\n",
    "import nltk\n",
    "from nltk.corpus import stopwords\n",
    "from nltk.tokenize import word_tokenize \n",
    "stop_words = set(stopwords.words('english')) "
   ]
  },
  {
   "cell_type": "code",
   "execution_count": 92,
   "metadata": {
    "collapsed": false
   },
   "outputs": [
    {
     "name": "stdout",
     "output_type": "stream",
     "text": [
      "58\n"
     ]
    }
   ],
   "source": [
    "# Step 1 : Find total words in the document\n",
    "total_words = doc.split()\n",
    "total_word_length = len(total_words)\n",
    "print(total_word_length)"
   ]
  },
  {
   "cell_type": "code",
   "execution_count": 93,
   "metadata": {
    "collapsed": false
   },
   "outputs": [
    {
     "name": "stdout",
     "output_type": "stream",
     "text": [
      "4\n"
     ]
    }
   ],
   "source": [
    "# Step 2 : Find total number of sentences\n",
    "total_sentences = tokenize.sent_tokenize(doc)\n",
    "total_sent_len = len(total_sentences)\n",
    "print(total_sent_len)"
   ]
  },
  {
   "cell_type": "code",
   "execution_count": 94,
   "metadata": {
    "collapsed": false
   },
   "outputs": [
    {
     "name": "stdout",
     "output_type": "stream",
     "text": [
      "{'paradigms,': 1, 'van': 1, 'Rossum': 1, 'ABC': 1, 'late': 1, '(particularly,': 1, 'It': 1, 'standard': 1, 'object-oriented,': 1, 'due': 1, 'successor': 1, 'library': 1, 'typed': 1, 'dynamically': 1, 'often': 1, 'described': 1, 'functional': 1, 'multiple': 1, '1991,': 1, 'first': 1, 'programming': 3, 'released': 1, 'Guido': 1, 'including': 1, '1980s,': 1, 'supports': 1, 'structured': 1, 'language': 2, 'created': 1, 'garbage-collected': 1, 'procedural),': 1, 'included\"': 1, 'comprehensive': 1, 'Python': 3, '\"batteries': 1}\n",
      "{'paradigms,': 0.017241379310344827, 'van': 0.017241379310344827, 'Rossum': 0.017241379310344827, 'ABC': 0.017241379310344827, 'late': 0.017241379310344827, '(particularly,': 0.017241379310344827, 'It': 0.017241379310344827, 'standard': 0.017241379310344827, 'object-oriented,': 0.017241379310344827, 'due': 0.017241379310344827, 'successor': 0.017241379310344827, 'library': 0.017241379310344827, 'typed': 0.017241379310344827, 'dynamically': 0.017241379310344827, 'often': 0.017241379310344827, 'described': 0.017241379310344827, 'functional': 0.017241379310344827, 'multiple': 0.017241379310344827, '1991,': 0.017241379310344827, 'first': 0.017241379310344827, 'programming': 0.05172413793103448, 'released': 0.017241379310344827, 'Guido': 0.017241379310344827, 'including': 0.017241379310344827, '1980s,': 0.017241379310344827, 'supports': 0.017241379310344827, 'structured': 0.017241379310344827, 'language': 0.034482758620689655, 'created': 0.017241379310344827, 'garbage-collected': 0.017241379310344827, 'procedural),': 0.017241379310344827, 'included\"': 0.017241379310344827, 'comprehensive': 0.017241379310344827, 'Python': 0.05172413793103448, '\"batteries': 0.017241379310344827}\n"
     ]
    }
   ],
   "source": [
    "# Step 3: Calculate TF for each word\n",
    "tf_score = {}\n",
    "for each_word in total_words:\n",
    "    each_word = each_word.replace('.','')\n",
    "    if each_word not in stop_words:\n",
    "        if each_word in tf_score:\n",
    "            tf_score[each_word] += 1\n",
    "        else:\n",
    "            tf_score[each_word] = 1\n",
    "print(tf_score)\n",
    "\n",
    "# Dividing by total_word_length for each dictionary element\n",
    "tf_score.update((x, y/int(total_word_length)) for x, y in tf_score.items())\n",
    "\n",
    "print(tf_score)"
   ]
  },
  {
   "cell_type": "code",
   "execution_count": 95,
   "metadata": {
    "collapsed": false
   },
   "outputs": [
    {
     "name": "stdout",
     "output_type": "stream",
     "text": [
      "{'paradigms,': 1, 'van': 1, 'Rossum': 1, 'ABC': 1, 'late': 1, '(particularly,': 1, 'It': 1, 'standard': 1, 'object-oriented,': 1, 'due': 1, 'successor': 1, 'library': 1, 'typed': 1, 'dynamically': 1, 'often': 1, 'described': 1, 'functional': 1, 'multiple': 1, '1991,': 1, 'first': 1, 'programming': 4, 'released': 1, 'Guido': 1, 'including': 1, '1980s,': 1, 'supports': 1, 'structured': 1, 'language': 3, 'created': 1, 'garbage-collected': 1, 'procedural),': 1, 'included\"': 1, 'comprehensive': 1, 'Python': 3, '\"batteries': 1}\n"
     ]
    }
   ],
   "source": [
    "# Check if a word is there in sentence list\n",
    "def check_sent(word, sentences): \n",
    "    final = [all([w in x for w in word]) for x in sentences] \n",
    "    sent_len = [sentences[i] for i in range(0, len(final)) if final[i]]\n",
    "    return int(len(sent_len))\n",
    "\n",
    "\n",
    "# Step 4: Calculate IDF for each word\n",
    "idf_score = {}\n",
    "for each_word in total_words:\n",
    "    each_word = each_word.replace('.','')\n",
    "    if each_word not in stop_words:\n",
    "        if each_word in idf_score:\n",
    "            idf_score[each_word] = check_sent(each_word, total_sentences)\n",
    "        else:\n",
    "            idf_score[each_word] = 1\n",
    "\n",
    "print(idf_score)"
   ]
  },
  {
   "cell_type": "code",
   "execution_count": 109,
   "metadata": {
    "collapsed": false
   },
   "outputs": [
    {
     "name": "stdout",
     "output_type": "stream",
     "text": [
      "{'paradigms,': -4.060443010546419, 'first': -4.060443010546419, 'supports': -4.060443010546419, 'ABC': -4.060443010546419, 'released': -4.060443010546419, '(particularly,': -4.060443010546419, 'It': -4.060443010546419, 'standard': -4.060443010546419, 'object-oriented,': -4.060443010546419, 'due': -4.060443010546419, 'typed': -4.060443010546419, 'dynamically': -4.060443010546419, 'often': -4.060443010546419, 'created': -4.060443010546419, 'successor': -4.060443010546419, 'programming': -1.575536360758419, 'multiple': -4.060443010546419, 'described': -4.060443010546419, 'functional': -4.060443010546419, 'van': -4.060443010546419, 'including': -4.060443010546419, 'library': -4.060443010546419, '1991,': -4.060443010546419, 'garbage-collected': -4.060443010546419, '1980s,': -4.060443010546419, 'Rossum': -4.060443010546419, 'structured': -4.060443010546419, 'language': -2.268683541318364, 'late': -4.060443010546419, 'Guido': -4.060443010546419, 'procedural),': -4.060443010546419, 'included\"': -4.060443010546419, 'comprehensive': -4.060443010546419, 'Python': -1.8632184332102, '\"batteries': -4.060443010546419}\n"
     ]
    }
   ],
   "source": [
    "# Step 5: Calculating TF*IDF\n",
    "tf_idf_score = {key: math.log(tf_score[key] * idf_score.get(key, 0)) for key in tf_score.keys()} \n",
    "print(tf_idf_score)"
   ]
  },
  {
   "cell_type": "code",
   "execution_count": 110,
   "metadata": {
    "collapsed": false
   },
   "outputs": [],
   "source": [
    "# Get top N important words in the document\n",
    "def get_top_n(dict_elem, n):\n",
    "    result = dict(sorted(dict_elem.items(), key = itemgetter(1), reverse = True)[:n]) \n",
    "    return result"
   ]
  },
  {
   "cell_type": "code",
   "execution_count": 111,
   "metadata": {
    "collapsed": false
   },
   "outputs": [
    {
     "name": "stdout",
     "output_type": "stream",
     "text": [
      "{'paradigms,': -4.060443010546419, 'first': -4.060443010546419, 'Python': -1.8632184332102, 'programming': -1.575536360758419, 'language': -2.268683541318364}\n"
     ]
    }
   ],
   "source": [
    "print(get_top_n(tf_idf_score, 5))"
   ]
  },
  {
   "cell_type": "code",
   "execution_count": null,
   "metadata": {
    "collapsed": true
   },
   "outputs": [],
   "source": []
  }
 ],
 "metadata": {
  "anaconda-cloud": {},
  "kernelspec": {
   "display_name": "Python [conda env:Anaconda]",
   "language": "python",
   "name": "conda-env-Anaconda-py"
  },
  "language_info": {
   "codemirror_mode": {
    "name": "ipython",
    "version": 3
   },
   "file_extension": ".py",
   "mimetype": "text/x-python",
   "name": "python",
   "nbconvert_exporter": "python",
   "pygments_lexer": "ipython3",
   "version": "3.5.6"
  }
 },
 "nbformat": 4,
 "nbformat_minor": 1
}
